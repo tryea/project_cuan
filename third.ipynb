{
  "cells": [
    {
      "cell_type": "markdown",
      "metadata": {
        "id": "qKPzHj-IScMn"
      },
      "source": [
        "Name: Ersapta Aristo\n",
        "\n",
        "Role: Instructor FTDS\n",
        "\n",
        "\n",
        "Tujaun Kode: Mengajarkan ipynb kepada student"
      ]
    },
    {
      "cell_type": "code",
      "execution_count": null,
      "metadata": {
        "id": "YADDSLq2ScMq",
        "outputId": "9555e1a2-fee3-44a4-e892-fe623faafd41"
      },
      "outputs": [
        {
          "name": "stdout",
          "output_type": "stream",
          "text": [
            "Hello HCK-010\n"
          ]
        }
      ],
      "source": [
        "print('Hello HCK-010')"
      ]
    },
    {
      "cell_type": "markdown",
      "metadata": {
        "id": "m7fim4MyScMs"
      },
      "source": [
        "dilihat dari kode diatas, print bertujuan untuk menampilkan text sebagai output"
      ]
    },
    {
      "cell_type": "markdown",
      "metadata": {
        "id": "oNSbxYPCScMs"
      },
      "source": [
        "## Pertanyaan 1"
      ]
    },
    {
      "cell_type": "markdown",
      "metadata": {
        "id": "JNnzEu4GScMs"
      },
      "source": [
        "Bagaimana cara menambahkan 2 variabel?"
      ]
    },
    {
      "cell_type": "code",
      "execution_count": null,
      "metadata": {
        "id": "yB59f0tfScMt",
        "outputId": "83c469b2-17e4-4761-d749-5c93d13a69fa"
      },
      "outputs": [
        {
          "data": {
            "text/plain": [
              "3"
            ]
          },
          "execution_count": 5,
          "metadata": {},
          "output_type": "execute_result"
        }
      ],
      "source": [
        "a = 1\n",
        "b = 2\n",
        "\n",
        "a+b"
      ]
    },
    {
      "cell_type": "code",
      "source": [
        "aaaaaa\n"
      ],
      "metadata": {
        "id": "lrUMO13ef_xy"
      },
      "execution_count": null,
      "outputs": []
    },
    {
      "cell_type": "markdown",
      "metadata": {
        "id": "2vt80aqSScMt"
      },
      "source": [
        "dapat disimpulkan cara menambahkan kedua variable bisa dengan menuliskan nama variable kemudian tanda '+' kemudian nama variable"
      ]
    }
  ],
  "metadata": {
    "kernelspec": {
      "display_name": "base",
      "language": "python",
      "name": "python3"
    },
    "language_info": {
      "codemirror_mode": {
        "name": "ipython",
        "version": 3
      },
      "file_extension": ".py",
      "mimetype": "text/x-python",
      "name": "python",
      "nbconvert_exporter": "python",
      "pygments_lexer": "ipython3",
      "version": "3.11.3"
    },
    "orig_nbformat": 4,
    "colab": {
      "provenance": []
    }
  },
  "nbformat": 4,
  "nbformat_minor": 0
}